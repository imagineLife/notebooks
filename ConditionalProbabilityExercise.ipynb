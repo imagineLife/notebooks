{
 "cells": [
  {
   "cell_type": "markdown",
   "metadata": {},
   "source": [
    "# Conditional Probability Activity & Exercise"
   ]
  },
  {
   "cell_type": "markdown",
   "metadata": {},
   "source": [
    "Figure out the likelyhood that people in age-ranges buying something."
   ]
  },
  {
   "cell_type": "markdown",
   "metadata": {},
   "source": [
    "## peoplePerAgeGroup \n",
    "contains the total number of people in each age group.  "
   ]
  },
  {
   "cell_type": "code",
   "execution_count": 97,
   "metadata": {},
   "outputs": [
    {
     "name": "stdout",
     "output_type": "stream",
     "text": [
      "{20: 0, 30: 0, 40: 0, 50: 0, 60: 0, 70: 0}\n"
     ]
    }
   ],
   "source": [
    "peoplePerAgeGroup = {20:0, 30:0, 40:0, 50:0, 60:0, 70:0}\n",
    "print(peoplePerAgeGroup)"
   ]
  },
  {
   "cell_type": "markdown",
   "metadata": {},
   "source": [
    "## purchases \n",
    "contains the total number of things purchased by people in each age group.  "
   ]
  },
  {
   "cell_type": "code",
   "execution_count": 98,
   "metadata": {},
   "outputs": [
    {
     "name": "stdout",
     "output_type": "stream",
     "text": [
      "{20: 0, 30: 0, 40: 0, 50: 0, 60: 0, 70: 0}\n"
     ]
    }
   ],
   "source": [
    "purchases = {20:0, 30:0, 40:0, 50:0, 60:0, 70:0}\n",
    "print(purchases)"
   ]
  },
  {
   "cell_type": "markdown",
   "metadata": {},
   "source": [
    "## totalPurchases\n",
    "The grand total of purchases is in totalPurchases, and we know the total number of people is 100,000."
   ]
  },
  {
   "cell_type": "code",
   "execution_count": 99,
   "metadata": {},
   "outputs": [
    {
     "name": "stdout",
     "output_type": "stream",
     "text": [
      "0\n"
     ]
    }
   ],
   "source": [
    "totalPurchases = 0\n",
    "print(totalPurchases)"
   ]
  },
  {
   "cell_type": "markdown",
   "metadata": {},
   "source": [
    "## FakeData Generation\n",
    "Below is some code to create some fake data on how much stuff people purchase given their age range.\n",
    "\n",
    "It generates 100,000 random \"people\" and randomly assigns them as being in their 20's, 30's, 40's, 50's, 60's, or 70's.\n",
    "\n",
    "It then assigns a lower probability for young people to buy stuff."
   ]
  },
  {
   "cell_type": "code",
   "execution_count": 100,
   "metadata": {},
   "outputs": [],
   "source": [
    "from numpy import random\n",
    "random.seed(0)\n",
    "\n",
    "for _ in range(100000):\n",
    "    ageDecade = random.choice([20, 30, 40, 50, 60, 70])\n",
    "\n",
    "    # HERE, there's a correlation between ageDecade and purchase-probablility\n",
    "    # Older is MORE LIKELY to buy\n",
    "    purchaseProbability = float(ageDecade) / 100.0\n",
    "    totals[ageDecade] += 1\n",
    "    if (random.random() < purchaseProbability):\n",
    "        totalPurchases += 1\n",
    "        purchases[ageDecade] += 1"
   ]
  },
  {
   "cell_type": "code",
   "execution_count": 101,
   "metadata": {},
   "outputs": [
    {
     "name": "stdout",
     "output_type": "stream",
     "text": [
      "{20: 82880, 30: 83095, 40: 83160, 50: 84025, 60: 83320, 70: 83520}\n"
     ]
    }
   ],
   "source": [
    "print(totals)"
   ]
  },
  {
   "cell_type": "code",
   "execution_count": 102,
   "metadata": {},
   "outputs": [
    {
     "name": "stdout",
     "output_type": "stream",
     "text": [
      "{20: 3392, 30: 4974, 40: 6670, 50: 8319, 60: 9944, 70: 11713}\n"
     ]
    }
   ],
   "source": [
    "print(purchases)"
   ]
  },
  {
   "cell_type": "code",
   "execution_count": 103,
   "metadata": {},
   "outputs": [
    {
     "name": "stdout",
     "output_type": "stream",
     "text": [
      "45012\n"
     ]
    }
   ],
   "source": [
    "print(totalPurchases)"
   ]
  },
  {
   "cell_type": "markdown",
   "metadata": {},
   "source": [
    "## Conditional Probability\n",
    "Let's play with conditional probability.\n",
    "E will represent making a Purchase.  \n",
    "F will represent a specific age-range.  \n",
    "\n",
    "### Prob. Purchasing in their 30s\n",
    "First let's compute P(E|F), where E is \"purchase\" and F is \"you're in your 30's\". The probability of someone in their 30's buying something is just the percentage of how many 30-year-olds bought something:"
   ]
  },
  {
   "cell_type": "code",
   "execution_count": 104,
   "metadata": {},
   "outputs": [
    {
     "name": "stdout",
     "output_type": "stream",
     "text": [
      "numberOfPeopleWhoPurchasedThirties: 4974\n",
      "numberOfPeopleThirties: 83095\n",
      "P(purchase | 30s): 0.05985919730429027\n"
     ]
    }
   ],
   "source": [
    "numberOfPeopleWhoPurchasedThirties = purchases[30]\n",
    "numberOfPeopleThirties = totals[30]\n",
    "print(\"numberOfPeopleWhoPurchasedThirties:\",numberOfPeopleWhoPurchasedThirties)\n",
    "print(\"numberOfPeopleThirties:\",numberOfPeopleThirties)\n",
    "\n",
    "probEeGivenF = float(numberOfPeopleWhoPurchasedThirties) / float(numberOfPeopleThirties)\n",
    "print('P(purchase | 30s): ' + str(probEeGivenF))"
   ]
  },
  {
   "cell_type": "markdown",
   "metadata": {},
   "source": [
    "### Prob. of being in 30s\n",
    "P(F) is just the probability of being 30 in this data set"
   ]
  },
  {
   "cell_type": "code",
   "execution_count": 105,
   "metadata": {},
   "outputs": [
    {
     "name": "stdout",
     "output_type": "stream",
     "text": [
      "P(30's): 0.83095\n"
     ]
    }
   ],
   "source": [
    "PF = float(totals[30]) / 100000.0\n",
    "print(\"P(30's): \" +  str(PF))"
   ]
  },
  {
   "cell_type": "markdown",
   "metadata": {},
   "source": [
    "### Prob of Buying something\n",
    "And P(E) is the overall probability of buying something, regardless of your age:"
   ]
  },
  {
   "cell_type": "code",
   "execution_count": 106,
   "metadata": {},
   "outputs": [
    {
     "name": "stdout",
     "output_type": "stream",
     "text": [
      "P(Purchase):0.45012\n"
     ]
    }
   ],
   "source": [
    "PE = float(totalPurchases) / 100000.0\n",
    "print(\"P(Purchase):\" + str(PE))"
   ]
  },
  {
   "cell_type": "markdown",
   "metadata": {},
   "source": [
    "If E and F were independent, then we would expect P(E | F) to be about the same as P(E). But they're not; P(E) is 0.45, and P(E|F) is 0.3. So, that tells us that E and F are dependent (which we know they are in this example.)"
   ]
  },
  {
   "cell_type": "markdown",
   "metadata": {},
   "source": [
    "P(E,F) is different from P(E|F). P(E,F) would be the probability of both being in your 30's and buying something, out of the total population - not just the population of people in their 30's:"
   ]
  },
  {
   "cell_type": "code",
   "execution_count": 107,
   "metadata": {
    "scrolled": true
   },
   "outputs": [
    {
     "name": "stdout",
     "output_type": "stream",
     "text": [
      "P(30's, Purchase)0.04974\n"
     ]
    }
   ],
   "source": [
    "print(\"P(30's, Purchase)\" + str(float(purchases[30]) / 100000.0))"
   ]
  },
  {
   "cell_type": "markdown",
   "metadata": {},
   "source": [
    "Let's also compute the product of P(E) and P(F), P(E)P(F):"
   ]
  },
  {
   "cell_type": "code",
   "execution_count": 108,
   "metadata": {},
   "outputs": [
    {
     "name": "stdout",
     "output_type": "stream",
     "text": [
      "P(30's)P(Purchase)0.374027214\n"
     ]
    }
   ],
   "source": [
    "print(\"P(30's)P(Purchase)\" + str(PE * PF))"
   ]
  },
  {
   "cell_type": "markdown",
   "metadata": {},
   "source": [
    "Something you may learn in stats is that P(E,F) = P(E)P(F), but this assumes E and F are independent. We've found here that P(E,F) is about 0.05, while P(E)P(F) is about 0.075. So when E and F are dependent - and we have a conditional probability going on - we can't just say that P(E,F) = P(E)P(F).\n",
    "\n",
    "We can also check that P(E|F) = P(E,F)/P(F), which is the relationship we showed in the slides - and sure enough, it is:"
   ]
  },
  {
   "cell_type": "code",
   "execution_count": 109,
   "metadata": {},
   "outputs": [
    {
     "name": "stdout",
     "output_type": "stream",
     "text": [
      "0.05985919730429027\n"
     ]
    }
   ],
   "source": [
    "print((purchases[30] / 100000.0) / PF)"
   ]
  },
  {
   "cell_type": "markdown",
   "metadata": {},
   "source": [
    "## Your Assignment"
   ]
  },
  {
   "cell_type": "markdown",
   "metadata": {},
   "source": [
    "### Create Purchase + Age Independence\n",
    "Modify the code above such that the purchase probability does NOT vary with age, making E and F actually independent."
   ]
  },
  {
   "cell_type": "code",
   "execution_count": 110,
   "metadata": {},
   "outputs": [
    {
     "name": "stdout",
     "output_type": "stream",
     "text": [
      "localTotals: {20: 16861, 30: 16595, 40: 16603, 50: 16619, 60: 16725, 70: 16597}\n",
      "localTotalPurchases: 74999\n",
      "localPurchases: {20: 12647, 30: 12447, 40: 12503, 50: 12430, 60: 12582, 70: 12390}\n"
     ]
    }
   ],
   "source": [
    "# update the loop & store the data\n",
    "localTotalPurchases = 0;\n",
    "localTotals = {20:0, 30:0, 40:0, 50:0, 60:0, 70:0}\n",
    "localPurchases = {20:0, 30:0, 40:0, 50:0, 60:0, 70:0}\n",
    "for _ in range(100000):\n",
    "    ageDecade = random.choice([20, 30, 40, 50, 60, 70])\n",
    "    purchaseProbability = .75\n",
    "    localTotals[ageDecade] += 1\n",
    "    if (random.random() < purchaseProbability):\n",
    "        localTotalPurchases += 1\n",
    "        localPurchases[ageDecade] += 1\n",
    "\n",
    "# show results\n",
    "print(\"localTotals:\",localTotals)\n",
    "print(\"localTotalPurchases:\",localTotalPurchases)\n",
    "print(\"localPurchases:\",localPurchases)"
   ]
  },
  {
   "cell_type": "markdown",
   "metadata": {},
   "source": [
    "### Calculate Probability\n",
    "Confirm that P(E|F) is about the same as P(E), showing that the conditional probability of purchase for a given age is not any different than the a-priori probability of purchase regardless of age."
   ]
  },
  {
   "cell_type": "code",
   "execution_count": 111,
   "metadata": {},
   "outputs": [
    {
     "name": "stdout",
     "output_type": "stream",
     "text": [
      "0.74999\n"
     ]
    }
   ],
   "source": [
    "thisPE = float(localTotalPurchases) / 100000.0\n",
    "print(thisPE)"
   ]
  },
  {
   "cell_type": "code",
   "execution_count": 112,
   "metadata": {},
   "outputs": [
    {
     "name": "stdout",
     "output_type": "stream",
     "text": [
      "P(20's, Purchase)0.12647\n",
      "P(30's, Purchase)0.12447\n",
      "P(40's, Purchase)0.12503\n",
      "P(50's, Purchase)0.1243\n",
      "P(60's, Purchase)0.12582\n"
     ]
    }
   ],
   "source": [
    "# print(\"P(20's, Purchase)\" + str(float(localPurchases[20]) / 100000.0))\n",
    "# print(\"P(30's, Purchase)\" + str(float(localPurchases[30]) / 100000.0))\n",
    "# print(\"P(40's, Purchase)\" + str(float(localPurchases[40]) / 100000.0))\n",
    "# print(\"P(50's, Purchase)\" + str(float(localPurchases[50]) / 100000.0))\n",
    "# print(\"P(60's, Purchase)\" + str(float(localPurchases[60]) / 100000.0))\n",
    "\n",
    "ageArr = [20,30,40,50,60]\n",
    "for decade in ageArr:\n",
    "    print(\"P(\"+str(decade)+\"'s, Purchase)\" + str(float(localPurchases[decade]) / 100000.0))"
   ]
  },
  {
   "cell_type": "code",
   "execution_count": null,
   "metadata": {},
   "outputs": [],
   "source": []
  }
 ],
 "metadata": {
  "kernelspec": {
   "display_name": "Python 3 (ipykernel)",
   "language": "python",
   "name": "python3"
  },
  "language_info": {
   "codemirror_mode": {
    "name": "ipython",
    "version": 3
   },
   "file_extension": ".py",
   "mimetype": "text/x-python",
   "name": "python",
   "nbconvert_exporter": "python",
   "pygments_lexer": "ipython3",
   "version": "3.11.6"
  }
 },
 "nbformat": 4,
 "nbformat_minor": 4
}
